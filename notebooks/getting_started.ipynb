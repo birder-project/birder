{
 "cells": [
  {
   "cell_type": "markdown",
   "id": "85a5c882-4366-4c97-80db-5fd20bc70e47",
   "metadata": {},
   "source": [
    "# Birder - Getting Started\n",
    "\n",
    "In this notebook we will explore some of the API's provided by Birder.\n",
    "\n",
    "Before we start, if you're running in Colab, make sure to install Birder first.\n",
    "Numpy 2.0 and above are not yet supported on Colab, so you might have to downgrade as well."
   ]
  },
  {
   "cell_type": "code",
   "execution_count": null,
   "id": "fc252ff2-36e7-4b25-bc0f-7b11394ad3b7",
   "metadata": {},
   "outputs": [],
   "source": [
    "# When running in Colab\n",
    "# !pip install birder\n",
    "# !pip install \"numpy<2.0\"\n",
    "\n",
    "# When running in a cloned repository (instead of pip installation)\n",
    "# %cd .."
   ]
  },
  {
   "cell_type": "code",
   "execution_count": null,
   "id": "f7523e77-b876-4b2d-8221-ae7a447cc912",
   "metadata": {},
   "outputs": [],
   "source": [
    "import birder\n",
    "import torch\n",
    "import torch.nn.functional as F\n",
    "from birder.core.inference.classification import infer_batch\n",
    "from birder.core.results.gui import show_top_k\n",
    "from PIL import Image"
   ]
  },
  {
   "cell_type": "code",
   "execution_count": null,
   "id": "7560c1da-3587-4ab4-8301-e4c78ee590e6",
   "metadata": {},
   "outputs": [],
   "source": [
    "birder.__version__"
   ]
  },
  {
   "cell_type": "markdown",
   "id": "6b2cbcd6-3615-47f4-894f-c455fb6f1aa9",
   "metadata": {},
   "source": [
    "## Exploring Models\n",
    "\n",
    "We can list all pretrained models according to any filter (or without).\n",
    "\n",
    "Let's look at all models that were trained on the il-common dataset and load one of them."
   ]
  },
  {
   "cell_type": "code",
   "execution_count": null,
   "id": "ef64152f-66e1-42b6-af68-ccc14ce5e748",
   "metadata": {},
   "outputs": [],
   "source": [
    "birder.list_pretrained_models(\"*il-common*\")"
   ]
  },
  {
   "cell_type": "code",
   "execution_count": null,
   "id": "4fc25afe-3160-4322-b7bd-b20f17804a77",
   "metadata": {},
   "outputs": [],
   "source": [
    "(net, class_to_idx, signature, rgb_values) = birder.load_pretrained_model(\"xcit_nano16_il-common\", inference=True)\n",
    "\n",
    "# Get the image size the model was trained on\n",
    "size = birder.get_size_from_signature(signature)\n",
    "\n",
    "# Create an inference transform\n",
    "transform = birder.classification_transform(size, rgb_values)"
   ]
  },
  {
   "cell_type": "markdown",
   "id": "0912bc12-4e0f-4fb2-89f3-f4b5a75871e3",
   "metadata": {},
   "source": [
    "## Inference\n",
    "\n",
    "Now we shall fetch an example image (of a Eurasian teal) and try to classify it."
   ]
  },
  {
   "cell_type": "code",
   "execution_count": null,
   "id": "bc8b9a14-9367-42f5-9d11-fade9d82e91f",
   "metadata": {},
   "outputs": [],
   "source": [
    "# In case it's a first run, create the data dir\n",
    "# !mkdir data"
   ]
  },
  {
   "cell_type": "code",
   "execution_count": null,
   "id": "aada0c81-82cf-4d5f-a460-790155426bbe",
   "metadata": {},
   "outputs": [],
   "source": [
    "image_path = \"data/example.jpeg\"\n",
    "birder.common.cli.download_file(\"https://f000.backblazeb2.com/file/birder/data/img_001.jpeg\", image_path)"
   ]
  },
  {
   "cell_type": "code",
   "execution_count": null,
   "id": "6d4d9b10-49ee-4608-a16a-8e1ad47fb7df",
   "metadata": {},
   "outputs": [],
   "source": [
    "img = Image.open(image_path)\n",
    "input_tensor = transform(img).unsqueeze(dim=0)\n",
    "(out, _) = infer_batch(net, input_tensor)\n",
    "show_top_k(image_path, out.squeeze(), class_to_idx, \"Eurasian teal\")"
   ]
  },
  {
   "cell_type": "code",
   "execution_count": null,
   "id": "47b380d7-ef2d-494c-b22e-973bef82a45c",
   "metadata": {},
   "outputs": [],
   "source": [
    "# The model failed to classify it correctly, this is probably because the object is small\n",
    "# and we are using a low resolution compact model.\n",
    "#\n",
    "# We will try again using an aggresive center crop.\n",
    "transform = birder.classification_transform(size, rgb_values, center_crop=0.5)\n",
    "input_tensor = transform(img).unsqueeze(dim=0)\n",
    "(out, _) = infer_batch(net, input_tensor)\n",
    "show_top_k(image_path, out.squeeze(), class_to_idx, \"Eurasian teal\")"
   ]
  },
  {
   "cell_type": "markdown",
   "id": "a810be14-6917-4c22-ad6a-d4d3047f5756",
   "metadata": {},
   "source": [
    "## Fine-tuning\n",
    "\n",
    "We shall now fine-tune the model on an example dataset.\n",
    "\n",
    "For this example we will use the Caltech-UCSD Birds-200-2011 dataset - <https://authors.library.caltech.edu/records/cvm3y-5hh21>.\n",
    "\n",
    "It has about ~12K images of 200 species.\n",
    "\n",
    "We will first do simple linear probing and later a full training."
   ]
  },
  {
   "cell_type": "code",
   "execution_count": null,
   "id": "797bf57b-e36c-471b-856e-864c293327e9",
   "metadata": {},
   "outputs": [],
   "source": [
    "from birder.datahub.classification import CUB_200_2011\n",
    "from birder.scripts import train"
   ]
  },
  {
   "cell_type": "code",
   "execution_count": null,
   "id": "505ee296-2684-42ba-b148-02389527d9cf",
   "metadata": {},
   "outputs": [],
   "source": [
    "CUB_200_2011(download=True)"
   ]
  },
  {
   "cell_type": "code",
   "execution_count": null,
   "id": "19f1d4ec-ccf5-45c0-9a7b-10cfe0600584",
   "metadata": {},
   "outputs": [],
   "source": [
    "# To prepare the model for training we must give it an initial epoch number\n",
    "!mv models/xcit_nano16_il-common.pt models/xcit_nano16_il-common_0.pt"
   ]
  },
  {
   "cell_type": "code",
   "execution_count": null,
   "id": "eecb8f32-7eab-4d17-826a-64a5a0e93b3b",
   "metadata": {},
   "outputs": [],
   "source": [
    "# Linear probing\n",
    "# The reset head argument will fit a new classification head and freeze the rest of the network\n",
    "args = train.args_from_dict(\n",
    "    network=\"xcit_nano16\",\n",
    "    tag=\"il-common\",\n",
    "    num_workers=2,\n",
    "    lr=0.1,\n",
    "    lr_scheduler=\"cosine\",\n",
    "    epochs=5,\n",
    "    resume_epoch=0,\n",
    "    reset_head=True,\n",
    "    size=256,\n",
    "    data_path=\"data/CUB_200_2011/training\",\n",
    "    val_path=\"data/CUB_200_2011/validation\",\n",
    ")"
   ]
  },
  {
   "cell_type": "code",
   "execution_count": null,
   "id": "1b7fed40-b729-4aaa-8fdb-845dc6ad9f02",
   "metadata": {
    "scrolled": true
   },
   "outputs": [],
   "source": [
    "train.train(args)"
   ]
  },
  {
   "cell_type": "code",
   "execution_count": null,
   "id": "95cc4a55-4b3b-4938-889b-fc286ca57c5f",
   "metadata": {},
   "outputs": [],
   "source": [
    "# Full fine-tuning for 10 epochs\n",
    "args = train.args_from_dict(\n",
    "    network=\"xcit_nano16\",\n",
    "    tag=\"il-common\",\n",
    "    num_workers=2,\n",
    "    opt=\"adamw\",\n",
    "    lr=0.0001,\n",
    "    lr_scheduler=\"cosine\",\n",
    "    lr_cosine_min=1e-7,\n",
    "    epochs=15,\n",
    "    resume_epoch=5,\n",
    "    size=256,\n",
    "    wd=0.05,\n",
    "    norm_wd=0,\n",
    "    grad_accum_steps=2,\n",
    "    smoothing_alpha=0.1,\n",
    "    mixup_alpha=0.2,\n",
    "    cutmix=True,\n",
    "    aug_level=4,\n",
    "    clip_grad_norm=1,\n",
    "    fast_matmul=True,\n",
    "    # compile=True,\n",
    "    data_path=\"data/CUB_200_2011/training\",\n",
    "    val_path=\"data/CUB_200_2011/validation\",\n",
    ")"
   ]
  },
  {
   "cell_type": "code",
   "execution_count": null,
   "id": "80b91b36-32f1-4e47-a801-7c78c80e1771",
   "metadata": {
    "scrolled": true
   },
   "outputs": [],
   "source": [
    "train.train(args)"
   ]
  },
  {
   "cell_type": "markdown",
   "id": "9834e3ee-e02e-4971-aeef-1848b12aca89",
   "metadata": {},
   "source": [
    "## Evaluate"
   ]
  },
  {
   "cell_type": "code",
   "execution_count": null,
   "id": "e443af4f-0184-4aa0-b48a-3cb2ccfe7c58",
   "metadata": {},
   "outputs": [],
   "source": [
    "from birder.common.fs_ops import load_model\n",
    "from torch.utils.data import DataLoader"
   ]
  },
  {
   "cell_type": "code",
   "execution_count": null,
   "id": "323ae900-1cd0-484a-a0e3-1d0604747aea",
   "metadata": {},
   "outputs": [],
   "source": [
    "device = torch.device(\"cuda\")\n",
    "(net, class_to_idx, signature, rgb_values) = load_model(\n",
    "    device, \"xcit_nano16\", tag=\"il-common\", epoch=15, inference=True\n",
    ")"
   ]
  },
  {
   "cell_type": "code",
   "execution_count": null,
   "id": "8c3f970b-fbdc-4ec4-b4be-361333fb29fd",
   "metadata": {},
   "outputs": [],
   "source": [
    "dataset = CUB_200_2011(split=\"validation\", transform=transform)\n",
    "inference_loader = DataLoader(\n",
    "    dataset,\n",
    "    batch_size=128,\n",
    "    num_workers=2,\n",
    ")"
   ]
  },
  {
   "cell_type": "code",
   "execution_count": null,
   "id": "05380227-03be-4ef4-8376-465b9222854c",
   "metadata": {},
   "outputs": [],
   "source": [
    "results = birder.evaluate_classification(device, net, inference_loader, class_to_idx)"
   ]
  },
  {
   "cell_type": "code",
   "execution_count": null,
   "id": "8cb4f8e5-9f57-4a79-9138-0a259f1133f9",
   "metadata": {},
   "outputs": [],
   "source": [
    "results.log_short_report()"
   ]
  },
  {
   "cell_type": "code",
   "execution_count": null,
   "id": "1cf16dfe-ce26-4438-b29b-55051ce91503",
   "metadata": {},
   "outputs": [],
   "source": [
    "results.most_confused()"
   ]
  }
 ],
 "metadata": {
  "kernelspec": {
   "display_name": "birder",
   "language": "python",
   "name": "birder"
  },
  "language_info": {
   "codemirror_mode": {
    "name": "ipython",
    "version": 3
   },
   "file_extension": ".py",
   "mimetype": "text/x-python",
   "name": "python",
   "nbconvert_exporter": "python",
   "pygments_lexer": "ipython3",
   "version": "3.11.2"
  }
 },
 "nbformat": 4,
 "nbformat_minor": 5
}
